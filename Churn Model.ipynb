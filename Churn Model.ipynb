{
    "nbformat_minor": 1, 
    "cells": [
        {
            "source": "# 1. Business understanding", 
            "cell_type": "markdown", 
            "metadata": {}
        }, 
        {
            "source": "# 2. Data Understanding", 
            "cell_type": "markdown", 
            "metadata": {}
        }, 
        {
            "execution_count": 2, 
            "cell_type": "code", 
            "metadata": {}, 
            "outputs": [
                {
                    "output_type": "stream", 
                    "name": "stdout", 
                    "text": "Collecting seaborn\n\u001b[?25l  Downloading https://files.pythonhosted.org/packages/a8/76/220ba4420459d9c4c9c9587c6ce607bf56c25b3d3d2de62056efe482dadc/seaborn-0.9.0-py3-none-any.whl (208kB)\n\u001b[K    100% |################################| 215kB 5.0MB/s eta 0:00:01\n\u001b[?25hCollecting pandas\n\u001b[?25l  Downloading https://files.pythonhosted.org/packages/74/24/0cdbf8907e1e3bc5a8da03345c23cbed7044330bb8f73bb12e711a640a00/pandas-0.24.2-cp35-cp35m-manylinux1_x86_64.whl (10.0MB)\n\u001b[K    100% |################################| 10.0MB 1.7MB/s eta 0:00:01\n\u001b[?25hInstalling collected packages: seaborn, pandas\nSuccessfully installed pandas-0.24.2 seaborn-0.9.0\n"
                }
            ], 
            "source": "!pip install --upgrade --no-deps seaborn pandas"
        }, 
        {
            "execution_count": 2, 
            "cell_type": "code", 
            "metadata": {}, 
            "outputs": [], 
            "source": "# The code was removed by Watson Studio for sharing."
        }, 
        {
            "source": "Let's start by importing the data and having a look at some of the rows", 
            "cell_type": "markdown", 
            "metadata": {}
        }, 
        {
            "execution_count": 3, 
            "cell_type": "code", 
            "metadata": {}, 
            "outputs": [
                {
                    "execution_count": 3, 
                    "metadata": {}, 
                    "data": {
                        "text/plain": "[Row(artist='Martin Orford', auth='Logged In', firstName='Joseph', gender='M', itemInSession=20, lastName='Morales', length=597.55057, level='free', location='Corpus Christi, TX', method='PUT', page='NextSong', registration=1532063507000, sessionId=292, song='Grand Designs', status=200, ts=1538352011000, userAgent='\"Mozilla/5.0 (Macintosh; Intel Mac OS X 10_9_4) AppleWebKit/537.36 (KHTML, like Gecko) Chrome/36.0.1985.125 Safari/537.36\"', userId='293'),\n Row(artist=\"John Brown's Body\", auth='Logged In', firstName='Sawyer', gender='M', itemInSession=74, lastName='Larson', length=380.21179, level='free', location='Houston-The Woodlands-Sugar Land, TX', method='PUT', page='NextSong', registration=1538069638000, sessionId=97, song='Bulls', status=200, ts=1538352025000, userAgent='\"Mozilla/5.0 (Macintosh; Intel Mac OS X 10_9_4) AppleWebKit/537.36 (KHTML, like Gecko) Chrome/36.0.1985.143 Safari/537.36\"', userId='98'),\n Row(artist='Afroman', auth='Logged In', firstName='Maverick', gender='M', itemInSession=184, lastName='Santiago', length=202.37016, level='paid', location='Orlando-Kissimmee-Sanford, FL', method='PUT', page='NextSong', registration=1535953455000, sessionId=178, song='Because I Got High', status=200, ts=1538352118000, userAgent='\"Mozilla/5.0 (Macintosh; Intel Mac OS X 10_9_4) AppleWebKit/537.36 (KHTML, like Gecko) Chrome/36.0.1985.143 Safari/537.36\"', userId='179'),\n Row(artist=None, auth='Logged In', firstName='Maverick', gender='M', itemInSession=185, lastName='Santiago', length=None, level='paid', location='Orlando-Kissimmee-Sanford, FL', method='PUT', page='Logout', registration=1535953455000, sessionId=178, song=None, status=307, ts=1538352119000, userAgent='\"Mozilla/5.0 (Macintosh; Intel Mac OS X 10_9_4) AppleWebKit/537.36 (KHTML, like Gecko) Chrome/36.0.1985.143 Safari/537.36\"', userId='179'),\n Row(artist='Lily Allen', auth='Logged In', firstName='Gianna', gender='F', itemInSession=22, lastName='Campos', length=194.53342, level='paid', location='Mobile, AL', method='PUT', page='NextSong', registration=1535931018000, sessionId=245, song='Smile (Radio Edit)', status=200, ts=1538352124000, userAgent='Mozilla/5.0 (Windows NT 6.1; WOW64; rv:31.0) Gecko/20100101 Firefox/31.0', userId='246')]"
                    }, 
                    "output_type": "execute_result"
                }
            ], 
            "source": "user_log = spark.read.json(cos.url('medium-sparkify-event-data.json', 'sparkify-donotdelete-pr-sfbydsmsmr0lxg'),)\nuser_log.take(5)"
        }, 
        {
            "execution_count": 4, 
            "cell_type": "code", 
            "metadata": {}, 
            "outputs": [
                {
                    "output_type": "stream", 
                    "name": "stdout", 
                    "text": "Number of rows: 543705\n"
                }
            ], 
            "source": "nrows = user_log.count()\nprint('Number of rows: {}'.format(nrows))"
        }, 
        {
            "execution_count": 5, 
            "cell_type": "code", 
            "metadata": {}, 
            "outputs": [
                {
                    "output_type": "stream", 
                    "name": "stdout", 
                    "text": "root\n |-- artist: string (nullable = true)\n |-- auth: string (nullable = true)\n |-- firstName: string (nullable = true)\n |-- gender: string (nullable = true)\n |-- itemInSession: long (nullable = true)\n |-- lastName: string (nullable = true)\n |-- length: double (nullable = true)\n |-- level: string (nullable = true)\n |-- location: string (nullable = true)\n |-- method: string (nullable = true)\n |-- page: string (nullable = true)\n |-- registration: long (nullable = true)\n |-- sessionId: long (nullable = true)\n |-- song: string (nullable = true)\n |-- status: long (nullable = true)\n |-- ts: long (nullable = true)\n |-- userAgent: string (nullable = true)\n |-- userId: string (nullable = true)\n\n"
                }
            ], 
            "source": "user_log.printSchema()"
        }, 
        {
            "execution_count": 6, 
            "cell_type": "code", 
            "metadata": {}, 
            "outputs": [
                {
                    "output_type": "stream", 
                    "name": "stdout", 
                    "text": "Number of columns: 18\n"
                }
            ], 
            "source": "ncols = len(user_log.columns)\nprint('Number of columns: {}'.format(ncols))"
        }, 
        {
            "execution_count": 7, 
            "cell_type": "code", 
            "metadata": {}, 
            "outputs": [], 
            "source": "num_vars = []\nchar_vars = []\nfor var, var_type in user_log.dtypes:\n    if var_type == 'string':\n        char_vars.append(var)\n    else:\n        num_vars.append(var)"
        }, 
        {
            "execution_count": 8, 
            "cell_type": "code", 
            "metadata": {}, 
            "outputs": [
                {
                    "execution_count": 8, 
                    "metadata": {}, 
                    "data": {
                        "text/plain": "['itemInSession', 'length', 'registration', 'sessionId', 'status', 'ts']"
                    }, 
                    "output_type": "execute_result"
                }
            ], 
            "source": "num_vars"
        }, 
        {
            "execution_count": 9, 
            "cell_type": "code", 
            "metadata": {}, 
            "outputs": [
                {
                    "execution_count": 9, 
                    "metadata": {}, 
                    "data": {
                        "text/plain": "['artist',\n 'auth',\n 'firstName',\n 'gender',\n 'lastName',\n 'level',\n 'location',\n 'method',\n 'page',\n 'song',\n 'userAgent',\n 'userId']"
                    }, 
                    "output_type": "execute_result"
                }
            ], 
            "source": "char_vars"
        }, 
        {
            "execution_count": 10, 
            "cell_type": "code", 
            "metadata": {}, 
            "outputs": [], 
            "source": "summary_stats = user_log.describe(*num_vars)"
        }, 
        {
            "execution_count": 11, 
            "cell_type": "code", 
            "metadata": {}, 
            "outputs": [
                {
                    "execution_count": 11, 
                    "metadata": {}, 
                    "data": {
                        "text/html": "<div>\n<style scoped>\n    .dataframe tbody tr th:only-of-type {\n        vertical-align: middle;\n    }\n\n    .dataframe tbody tr th {\n        vertical-align: top;\n    }\n\n    .dataframe thead th {\n        text-align: right;\n    }\n</style>\n<table border=\"1\" class=\"dataframe\">\n  <thead>\n    <tr style=\"text-align: right;\">\n      <th></th>\n      <th>summary</th>\n      <th>itemInSession</th>\n      <th>length</th>\n      <th>registration</th>\n      <th>sessionId</th>\n      <th>status</th>\n      <th>ts</th>\n    </tr>\n  </thead>\n  <tbody>\n    <tr>\n      <th>0</th>\n      <td>count</td>\n      <td>543705</td>\n      <td>432877</td>\n      <td>528005</td>\n      <td>543705</td>\n      <td>543705</td>\n      <td>543705</td>\n    </tr>\n    <tr>\n      <th>1</th>\n      <td>mean</td>\n      <td>107.30629109535502</td>\n      <td>248.6645927800741</td>\n      <td>1.5355234148639534E12</td>\n      <td>2040.8143533717732</td>\n      <td>210.01829116892432</td>\n      <td>1.5409645412097434E12</td>\n    </tr>\n    <tr>\n      <th>2</th>\n      <td>stddev</td>\n      <td>116.72350849188166</td>\n      <td>98.41266955052022</td>\n      <td>3.078725492996257E9</td>\n      <td>1434.3389310782668</td>\n      <td>31.471919021567206</td>\n      <td>1.4820571449120324E9</td>\n    </tr>\n    <tr>\n      <th>3</th>\n      <td>min</td>\n      <td>0</td>\n      <td>0.78322</td>\n      <td>1509854193000</td>\n      <td>1</td>\n      <td>200</td>\n      <td>1538352011000</td>\n    </tr>\n    <tr>\n      <th>4</th>\n      <td>max</td>\n      <td>1005</td>\n      <td>3024.66567</td>\n      <td>1543073874000</td>\n      <td>4808</td>\n      <td>404</td>\n      <td>1543622466000</td>\n    </tr>\n  </tbody>\n</table>\n</div>", 
                        "text/plain": "  summary       itemInSession             length           registration  \\\n0   count              543705             432877                 528005   \n1    mean  107.30629109535502  248.6645927800741  1.5355234148639534E12   \n2  stddev  116.72350849188166  98.41266955052022    3.078725492996257E9   \n3     min                   0            0.78322          1509854193000   \n4     max                1005         3024.66567          1543073874000   \n\n            sessionId              status                     ts  \n0              543705              543705                 543705  \n1  2040.8143533717732  210.01829116892432  1.5409645412097434E12  \n2  1434.3389310782668  31.471919021567206   1.4820571449120324E9  \n3                   1                 200          1538352011000  \n4                4808                 404          1543622466000  "
                    }, 
                    "output_type": "execute_result"
                }
            ], 
            "source": "summary_stats.toPandas()"
        }, 
        {
            "execution_count": 12, 
            "cell_type": "code", 
            "metadata": {}, 
            "outputs": [], 
            "source": "eval_char_vars = ['artist',\n 'auth',\n 'gender',\n 'level',\n 'method',\n 'page',\n 'song',\n 'userAgent']"
        }, 
        {
            "execution_count": 13, 
            "cell_type": "code", 
            "metadata": {}, 
            "outputs": [
                {
                    "output_type": "stream", 
                    "name": "stdout", 
                    "text": "+----------------------+------+\n|artist                |count |\n+----------------------+------+\n|null                  |110828|\n|Kings Of Leon         |3497  |\n|Coldplay              |3439  |\n|Florence + The Machine|2314  |\n|Muse                  |2194  |\n|Dwight Yoakam         |2187  |\n|The Black Keys        |2160  |\n|Bj\u00c3\u0083\u00c2\u00b6rk              |2150  |\n|Justin Bieber         |2096  |\n|Jack Johnson          |2049  |\n|Radiohead             |1694  |\n|Eminem                |1686  |\n|Alliance Ethnik       |1654  |\n|OneRepublic           |1651  |\n|Taylor Swift          |1555  |\n|The Killers           |1554  |\n|Train                 |1537  |\n|Linkin Park           |1487  |\n|Evanescence           |1426  |\n|John Mayer            |1350  |\n+----------------------+------+\nonly showing top 20 rows\n\n+----------+------+\n|auth      |count |\n+----------+------+\n|Logged In |527906|\n|Logged Out|15606 |\n|Cancelled |99    |\n|Guest     |94    |\n+----------+------+\n\n+------+------+\n|gender|count |\n+------+------+\n|M     |302612|\n|F     |225393|\n|null  |15700 |\n+------+------+\n\n+-----+------+\n|level|count |\n+-----+------+\n|paid |428597|\n|free |115108|\n+-----+------+\n\n+------+------+\n|method|count |\n+------+------+\n|PUT   |495143|\n|GET   |48562 |\n+------+------+\n\n+-------------------------+------+\n|page                     |count |\n+-------------------------+------+\n|NextSong                 |432877|\n|Home                     |27412 |\n|Thumbs Up                |23826 |\n|Add to Playlist          |12349 |\n|Add Friend               |8087  |\n|Roll Advert              |7773  |\n|Login                    |6011  |\n|Logout                   |5990  |\n|Thumbs Down              |4911  |\n|Downgrade                |3811  |\n|Help                     |3150  |\n|Settings                 |2964  |\n|About                    |1855  |\n|Upgrade                  |968   |\n|Save Settings            |585   |\n|Error                    |519   |\n|Submit Upgrade           |287   |\n|Submit Downgrade         |117   |\n|Cancel                   |99    |\n|Cancellation Confirmation|99    |\n+-------------------------+------+\nonly showing top 20 rows\n\n+-------------------------------------------------------------------+------+\n|song                                                               |count |\n+-------------------------------------------------------------------+------+\n|null                                                               |110828|\n|You're The One                                                     |2219  |\n|Undo                                                               |1938  |\n|Revelry                                                            |1613  |\n|Sehr kosmisch                                                      |1341  |\n|Horn Concerto No. 4 in E flat K495: II. Romance (Andante cantabile)|1236  |\n|Dog Days Are Over (Radio Edit)                                     |1048  |\n|Secrets                                                            |916   |\n|Use Somebody                                                       |894   |\n|Canada                                                             |836   |\n|Invalid                                                            |801   |\n|Ain't Misbehavin                                                   |767   |\n|Repr\u00c3\u0083\u00c2\u00a9sente                                                      |766   |\n|Yellow                                                             |744   |\n|Catch You Baby (Steve Pitron & Max Sanna Radio Edit)               |718   |\n|Sincerit\u00c3\u0083\u00c2\u00a9 Et Jalousie                                           |688   |\n|Somebody To Love                                                   |686   |\n|The Gift                                                           |612   |\n|Fireflies                                                          |586   |\n|Tive Sim                                                           |586   |\n+-------------------------------------------------------------------+------+\nonly showing top 20 rows\n\n+-------------------------------------------------------------------------------------------------------------------------------------------+-----+\n|userAgent                                                                                                                                  |count|\n+-------------------------------------------------------------------------------------------------------------------------------------------+-----+\n|\"Mozilla/5.0 (Macintosh; Intel Mac OS X 10_9_4) AppleWebKit/537.36 (KHTML, like Gecko) Chrome/36.0.1985.125 Safari/537.36\"                 |46082|\n|Mozilla/5.0 (Windows NT 6.1; WOW64; rv:31.0) Gecko/20100101 Firefox/31.0                                                                   |39456|\n|\"Mozilla/5.0 (Windows NT 6.1; WOW64) AppleWebKit/537.36 (KHTML, like Gecko) Chrome/36.0.1985.143 Safari/537.36\"                            |38551|\n|\"Mozilla/5.0 (Windows NT 6.1; WOW64) AppleWebKit/537.36 (KHTML, like Gecko) Chrome/36.0.1985.125 Safari/537.36\"                            |31702|\n|\"Mozilla/5.0 (Macintosh; Intel Mac OS X 10_9_4) AppleWebKit/537.77.4 (KHTML, like Gecko) Version/7.0.5 Safari/537.77.4\"                    |31653|\n|\"Mozilla/5.0 (Macintosh; Intel Mac OS X 10_9_4) AppleWebKit/537.36 (KHTML, like Gecko) Chrome/36.0.1985.143 Safari/537.36\"                 |24357|\n|\"Mozilla/5.0 (Macintosh; Intel Mac OS X 10_9_4) AppleWebKit/537.78.2 (KHTML, like Gecko) Version/7.0.6 Safari/537.78.2\"                    |18384|\n|\"Mozilla/5.0 (Macintosh; Intel Mac OS X 10_9_4) AppleWebKit/537.36 (KHTML, like Gecko) Chrome/37.0.2062.94 Safari/537.36\"                  |17518|\n|Mozilla/5.0 (Macintosh; Intel Mac OS X 10.9; rv:31.0) Gecko/20100101 Firefox/31.0                                                          |16137|\n|null                                                                                                                                       |15700|\n|\"Mozilla/5.0 (iPad; CPU OS 7_1_2 like Mac OS X) AppleWebKit/537.51.2 (KHTML, like Gecko) Version/7.0 Mobile/11D257 Safari/9537.53\"         |14370|\n|\"Mozilla/5.0 (Windows NT 6.3; WOW64) AppleWebKit/537.36 (KHTML, like Gecko) Chrome/36.0.1985.143 Safari/537.36\"                            |14350|\n|\"Mozilla/5.0 (Windows NT 6.3; WOW64) AppleWebKit/537.36 (KHTML, like Gecko) Chrome/36.0.1985.125 Safari/537.36\"                            |13484|\n|Mozilla/5.0 (Windows NT 6.3; WOW64; rv:31.0) Gecko/20100101 Firefox/31.0                                                                   |12874|\n|\"Mozilla/5.0 (iPhone; CPU iPhone OS 7_1_2 like Mac OS X) AppleWebKit/537.51.2 (KHTML, like Gecko) Version/7.0 Mobile/11D257 Safari/9537.53\"|10437|\n|\"Mozilla/5.0 (Windows NT 6.1; WOW64) AppleWebKit/537.36 (KHTML, like Gecko) Chrome/37.0.2062.94 Safari/537.36\"                             |10340|\n|Mozilla/5.0 (compatible; MSIE 9.0; Windows NT 6.1; WOW64; Trident/5.0)                                                                     |10301|\n|Mozilla/5.0 (Windows NT 6.1; WOW64; Trident/7.0; rv:11.0) like Gecko                                                                       |10153|\n|Mozilla/5.0 (Windows NT 6.1; WOW64; rv:30.0) Gecko/20100101 Firefox/30.0                                                                   |9735 |\n|\"Mozilla/5.0 (Windows NT 6.1) AppleWebKit/537.36 (KHTML, like Gecko) Chrome/36.0.1985.143 Safari/537.36\"                                   |8087 |\n+-------------------------------------------------------------------------------------------------------------------------------------------+-----+\nonly showing top 20 rows\n\n"
                }
            ], 
            "source": "for var in eval_char_vars:\n    count_var = 'count('+ var + ')'\n    (user_log.groupBy(var)\n                .agg(F.count('userId').alias('count'))\n                .sort(F.desc('count'))).show(truncate=False)"
        }, 
        {
            "execution_count": 14, 
            "cell_type": "code", 
            "metadata": {}, 
            "outputs": [
                {
                    "output_type": "stream", 
                    "name": "stdout", 
                    "text": "Distinct Number of users: 449\n"
                }
            ], 
            "source": "distinct_number_users = user_log.select('userId').distinct().count()\nprint('Distinct Number of users: {}'.format(distinct_number_users))"
        }, 
        {
            "execution_count": 15, 
            "cell_type": "code", 
            "metadata": {}, 
            "outputs": [], 
            "source": "# Drop unneccessary columns\nuser_log = user_log.drop(*['firstName','lastName','Artist','song'])"
        }, 
        {
            "execution_count": 16, 
            "cell_type": "code", 
            "metadata": {}, 
            "outputs": [], 
            "source": "user_log = user_log.withColumn('ts', ((F.col('ts')/ 1000.0).cast(\"timestamp\")))\nuser_log = user_log.withColumn(\"date\", F.to_date(F.col(\"ts\")))\nuser_log = user_log.withColumn('registration', ((F.col('registration')/ 1000.0).cast(\"timestamp\")))\nuser_log = user_log.withColumn('registration_date', F.to_date(F.col(\"registration\")))"
        }, 
        {
            "execution_count": 17, 
            "cell_type": "code", 
            "metadata": {}, 
            "outputs": [
                {
                    "output_type": "stream", 
                    "name": "stdout", 
                    "text": "+----------+----------+\n| min(date)| max(date)|\n+----------+----------+\n|2018-10-01|2018-12-01|\n+----------+----------+\n\n"
                }
            ], 
            "source": "user_log.agg(F.min('date'), F.max('date')).show()"
        }, 
        {
            "execution_count": 18, 
            "cell_type": "code", 
            "metadata": {}, 
            "outputs": [
                {
                    "output_type": "stream", 
                    "name": "stdout", 
                    "text": "+----------------------+----------------------+\n|min(registration_date)|max(registration_date)|\n+----------------------+----------------------+\n|            2017-11-05|            2018-11-24|\n+----------------------+----------------------+\n\n"
                }
            ], 
            "source": "user_log.agg(F.min('registration_date'), F.max('registration_date')).show()"
        }, 
        {
            "execution_count": 19, 
            "cell_type": "code", 
            "metadata": {}, 
            "outputs": [], 
            "source": "user_log = user_log.withColumn('Churned', (F.when(F.col(\"page\").isin(['Submit Downgrade','Cancel']) , 1)\n                                           .otherwise(0)))"
        }, 
        {
            "execution_count": 20, 
            "cell_type": "code", 
            "metadata": {}, 
            "outputs": [], 
            "source": "churn_by_user =user_log.groupBy('userId').agg(F.max('Churned').alias('Churned'))"
        }, 
        {
            "execution_count": 21, 
            "cell_type": "code", 
            "metadata": {}, 
            "outputs": [], 
            "source": "churn_rate = churn_by_user.agg(F.mean('Churned')).collect()"
        }, 
        {
            "execution_count": 22, 
            "cell_type": "code", 
            "metadata": {}, 
            "outputs": [
                {
                    "output_type": "stream", 
                    "name": "stdout", 
                    "text": "Baseline Churn rate: 0.3897550111358575\n"
                }
            ], 
            "source": "print('Baseline Churn rate: {}'.format(churn_rate[0][0]))"
        }, 
        {
            "execution_count": 23, 
            "cell_type": "code", 
            "metadata": {}, 
            "outputs": [], 
            "source": "churn_by_user_date = user_log.groupBy(['userId','date']).agg(F.max('Churned').alias('Churned'))\nnumber_churn_per_day = churn_by_user_date.groupBy('date').agg(F.sum('Churned').alias('Churned'))"
        }, 
        {
            "execution_count": 24, 
            "cell_type": "code", 
            "metadata": {}, 
            "outputs": [], 
            "source": "number_churn_per_day_pd = number_churn_per_day.toPandas()"
        }, 
        {
            "execution_count": 25, 
            "cell_type": "code", 
            "metadata": {}, 
            "outputs": [
                {
                    "execution_count": 25, 
                    "metadata": {}, 
                    "data": {
                        "text/html": "<div>\n<style scoped>\n    .dataframe tbody tr th:only-of-type {\n        vertical-align: middle;\n    }\n\n    .dataframe tbody tr th {\n        vertical-align: top;\n    }\n\n    .dataframe thead th {\n        text-align: right;\n    }\n</style>\n<table border=\"1\" class=\"dataframe\">\n  <thead>\n    <tr style=\"text-align: right;\">\n      <th></th>\n      <th>date</th>\n      <th>Churned</th>\n    </tr>\n  </thead>\n  <tbody>\n    <tr>\n      <th>0</th>\n      <td>2018-10-05</td>\n      <td>7</td>\n    </tr>\n    <tr>\n      <th>1</th>\n      <td>2018-11-02</td>\n      <td>5</td>\n    </tr>\n    <tr>\n      <th>2</th>\n      <td>2018-11-01</td>\n      <td>3</td>\n    </tr>\n    <tr>\n      <th>3</th>\n      <td>2018-10-04</td>\n      <td>2</td>\n    </tr>\n    <tr>\n      <th>4</th>\n      <td>2018-10-09</td>\n      <td>4</td>\n    </tr>\n  </tbody>\n</table>\n</div>", 
                        "text/plain": "         date  Churned\n0  2018-10-05        7\n1  2018-11-02        5\n2  2018-11-01        3\n3  2018-10-04        2\n4  2018-10-09        4"
                    }, 
                    "output_type": "execute_result"
                }
            ], 
            "source": "number_churn_per_day_pd.head()"
        }, 
        {
            "execution_count": 26, 
            "cell_type": "code", 
            "metadata": {}, 
            "outputs": [
                {
                    "output_type": "display_data", 
                    "data": {
                        "image/png": "[encoded data removed]", 
                        "text/plain": "<matplotlib.figure.Figure at 0x2b0dbcd3eba8>"
                    }, 
                    "metadata": {}
                }
            ], 
            "source": "sns.set(style=\"darkgrid\")\nplt.figure(figsize=(20,10))\nsns.lineplot(x=\"date\", y=\"Churned\",data=number_churn_per_day_pd);"
        }, 
        {
            "source": "# 3. Data preparation\n", 
            "cell_type": "markdown", 
            "metadata": {}
        }, 
        {
            "execution_count": 27, 
            "cell_type": "code", 
            "metadata": {}, 
            "outputs": [], 
            "source": "churn_date_per_user = user_log.filter('Churned == 1').groupBy('userId').agg(F.min('date').alias('Churned_date'))"
        }, 
        {
            "execution_count": 28, 
            "cell_type": "code", 
            "metadata": {}, 
            "outputs": [], 
            "source": "user_log_with_churnind = user_log.join(churn_date_per_user,on='userId', how='left')"
        }, 
        {
            "execution_count": 29, 
            "cell_type": "code", 
            "metadata": {}, 
            "outputs": [
                {
                    "execution_count": 29, 
                    "metadata": {}, 
                    "data": {
                        "text/plain": "[Row(userId='100010', auth='Logged In', gender='F', itemInSession=0, length=226.08934, level='free', location='Bridgeport-Stamford-Norwalk, CT', method='PUT', page='NextSong', registration=datetime.datetime(2018, 9, 27, 2, 45, 40), sessionId=62, status=200, ts=datetime.datetime(2018, 10, 8, 9, 36, 32), userAgent='\"Mozilla/5.0 (iPhone; CPU iPhone OS 7_1_2 like Mac OS X) AppleWebKit/537.51.2 (KHTML, like Gecko) Version/7.0 Mobile/11D257 Safari/9537.53\"', date=datetime.date(2018, 10, 8), registration_date=datetime.date(2018, 9, 27), Churned=0, Churned_date=datetime.date(2018, 10, 11))]"
                    }, 
                    "output_type": "execute_result"
                }
            ], 
            "source": "user_log_with_churnind.take(1)"
        }, 
        {
            "execution_count": 30, 
            "cell_type": "code", 
            "metadata": {}, 
            "outputs": [], 
            "source": "user_log_with_churnind.createTempView('user_log_with_churnind')"
        }, 
        {
            "execution_count": 31, 
            "cell_type": "code", 
            "metadata": {}, 
            "outputs": [], 
            "source": "user_log_with_churnind = spark.sql('''SELECT *, \n            CASE WHEN Churned_date IS NULL then '2018-12-01'\n            ELSE Churned_date END as Ref_date\n            FROM user_log_with_churnind\n            ''')"
        }, 
        {
            "execution_count": 32, 
            "cell_type": "code", 
            "metadata": {}, 
            "outputs": [
                {
                    "output_type": "stream", 
                    "name": "stdout", 
                    "text": "+------+------------+-------------+\n|userId|max(Churned)|min(ref_date)|\n+------+------------+-------------+\n|100010|           1|   2018-10-11|\n|200002|           1|   2018-10-30|\n|   296|           1|   2018-10-10|\n|   125|           0|   2018-12-01|\n|   124|           1|   2018-11-11|\n|    51|           1|   2018-10-16|\n|     7|           0|   2018-12-01|\n|200037|           1|   2018-10-24|\n|   169|           0|   2018-12-01|\n|   205|           0|   2018-12-01|\n|   272|           0|   2018-12-01|\n|    15|           0|   2018-12-01|\n|   232|           1|   2018-11-02|\n|   234|           1|   2018-11-01|\n|   282|           0|   2018-12-01|\n|    54|           1|   2018-10-08|\n|   155|           0|   2018-12-01|\n|200043|           0|   2018-12-01|\n|100014|           1|   2018-10-21|\n|   132|           1|   2018-10-08|\n+------+------------+-------------+\nonly showing top 20 rows\n\n"
                }
            ], 
            "source": "#Check results\n\nuser_log_with_churnind.groupBy('userId').agg(F.max('Churned'),F.min('ref_date')).show()"
        }, 
        {
            "execution_count": 33, 
            "cell_type": "code", 
            "metadata": {}, 
            "outputs": [], 
            "source": "observation_period = user_log_with_churnind.filter('date <= ref_date')"
        }, 
        {
            "execution_count": 34, 
            "cell_type": "code", 
            "metadata": {}, 
            "outputs": [
                {
                    "execution_count": 34, 
                    "metadata": {}, 
                    "data": {
                        "text/plain": "451874"
                    }, 
                    "output_type": "execute_result"
                }
            ], 
            "source": "observation_period.count()"
        }, 
        {
            "execution_count": 35, 
            "cell_type": "code", 
            "metadata": {}, 
            "outputs": [], 
            "source": "observation_period = observation_period.withColumn('length_relationship', F.datediff(F.col('ref_date'),F.col('registration_date'))/365.25*12)\n"
        }, 
        {
            "execution_count": 36, 
            "cell_type": "code", 
            "metadata": {}, 
            "outputs": [
                {
                    "output_type": "stream", 
                    "name": "stdout", 
                    "text": "+-------+-------------------+\n|summary|length_relationship|\n+-------+-------------------+\n|  count|             436174|\n|   mean|  2.753162022476758|\n| stddev| 1.1569620615695195|\n|    min|                0.0|\n|    max| 12.845995893223819|\n+-------+-------------------+\n\n"
                }
            ], 
            "source": "observation_period.describe('length_relationship').show()"
        }, 
        {
            "execution_count": 37, 
            "cell_type": "code", 
            "metadata": {}, 
            "outputs": [], 
            "source": "categories = observation_period.select(\"page\").distinct().rdd.flatMap(lambda x: x).collect()"
        }, 
        {
            "execution_count": 38, 
            "cell_type": "code", 
            "metadata": {}, 
            "outputs": [], 
            "source": "exprs = [F.when(F.col(\"page\") == category, 1).otherwise(0).alias(category)\n         for category in categories]"
        }, 
        {
            "execution_count": 39, 
            "cell_type": "code", 
            "metadata": {}, 
            "outputs": [], 
            "source": "observation_period = observation_period.select('*', *exprs).withColumn('week',F.weekofyear('date'))"
        }, 
        {
            "execution_count": 40, 
            "cell_type": "code", 
            "metadata": {}, 
            "outputs": [
                {
                    "execution_count": 40, 
                    "metadata": {}, 
                    "data": {
                        "text/plain": "[Row(userId='100010', auth='Logged In', gender='F', itemInSession=0, length=226.08934, level='free', location='Bridgeport-Stamford-Norwalk, CT', method='PUT', page='NextSong', registration=datetime.datetime(2018, 9, 27, 2, 45, 40), sessionId=62, status=200, ts=datetime.datetime(2018, 10, 8, 9, 36, 32), userAgent='\"Mozilla/5.0 (iPhone; CPU iPhone OS 7_1_2 like Mac OS X) AppleWebKit/537.51.2 (KHTML, like Gecko) Version/7.0 Mobile/11D257 Safari/9537.53\"', date=datetime.date(2018, 10, 8), registration_date=datetime.date(2018, 9, 27), Churned=0, Churned_date=datetime.date(2018, 10, 11), Ref_date='2018-10-11', length_relationship=0.45995893223819295, Cancel=0, Submit Downgrade=0, Thumbs Down=0, Home=0, Downgrade=0, Roll Advert=0, Logout=0, Save Settings=0, Cancellation Confirmation=0, About=0, Submit Registration=0, Settings=0, Login=0, Register=0, Add to Playlist=0, Add Friend=0, NextSong=1, Thumbs Up=0, Help=0, Upgrade=0, Error=0, Submit Upgrade=0, week=41),\n Row(userId='100010', auth='Logged In', gender='F', itemInSession=1, length=285.41342, level='free', location='Bridgeport-Stamford-Norwalk, CT', method='PUT', page='NextSong', registration=datetime.datetime(2018, 9, 27, 2, 45, 40), sessionId=62, status=200, ts=datetime.datetime(2018, 10, 8, 9, 40, 18), userAgent='\"Mozilla/5.0 (iPhone; CPU iPhone OS 7_1_2 like Mac OS X) AppleWebKit/537.51.2 (KHTML, like Gecko) Version/7.0 Mobile/11D257 Safari/9537.53\"', date=datetime.date(2018, 10, 8), registration_date=datetime.date(2018, 9, 27), Churned=0, Churned_date=datetime.date(2018, 10, 11), Ref_date='2018-10-11', length_relationship=0.45995893223819295, Cancel=0, Submit Downgrade=0, Thumbs Down=0, Home=0, Downgrade=0, Roll Advert=0, Logout=0, Save Settings=0, Cancellation Confirmation=0, About=0, Submit Registration=0, Settings=0, Login=0, Register=0, Add to Playlist=0, Add Friend=0, NextSong=1, Thumbs Up=0, Help=0, Upgrade=0, Error=0, Submit Upgrade=0, week=41),\n Row(userId='100010', auth='Logged In', gender='F', itemInSession=2, length=236.09424, level='free', location='Bridgeport-Stamford-Norwalk, CT', method='PUT', page='NextSong', registration=datetime.datetime(2018, 9, 27, 2, 45, 40), sessionId=62, status=200, ts=datetime.datetime(2018, 10, 8, 9, 45, 3), userAgent='\"Mozilla/5.0 (iPhone; CPU iPhone OS 7_1_2 like Mac OS X) AppleWebKit/537.51.2 (KHTML, like Gecko) Version/7.0 Mobile/11D257 Safari/9537.53\"', date=datetime.date(2018, 10, 8), registration_date=datetime.date(2018, 9, 27), Churned=0, Churned_date=datetime.date(2018, 10, 11), Ref_date='2018-10-11', length_relationship=0.45995893223819295, Cancel=0, Submit Downgrade=0, Thumbs Down=0, Home=0, Downgrade=0, Roll Advert=0, Logout=0, Save Settings=0, Cancellation Confirmation=0, About=0, Submit Registration=0, Settings=0, Login=0, Register=0, Add to Playlist=0, Add Friend=0, NextSong=1, Thumbs Up=0, Help=0, Upgrade=0, Error=0, Submit Upgrade=0, week=41)]"
                    }, 
                    "output_type": "execute_result"
                }
            ], 
            "source": "observation_period.take(3)"
        }, 
        {
            "execution_count": 41, 
            "cell_type": "code", 
            "metadata": {}, 
            "outputs": [
                {
                    "execution_count": 41, 
                    "metadata": {}, 
                    "data": {
                        "text/plain": "['userId',\n 'auth',\n 'gender',\n 'itemInSession',\n 'length',\n 'level',\n 'location',\n 'method',\n 'page',\n 'registration',\n 'sessionId',\n 'status',\n 'ts',\n 'userAgent',\n 'date',\n 'registration_date',\n 'Churned',\n 'Churned_date',\n 'Ref_date',\n 'length_relationship',\n 'Cancel',\n 'Submit Downgrade',\n 'Thumbs Down',\n 'Home',\n 'Downgrade',\n 'Roll Advert',\n 'Logout',\n 'Save Settings',\n 'Cancellation Confirmation',\n 'About',\n 'Submit Registration',\n 'Settings',\n 'Login',\n 'Register',\n 'Add to Playlist',\n 'Add Friend',\n 'NextSong',\n 'Thumbs Up',\n 'Help',\n 'Upgrade',\n 'Error',\n 'Submit Upgrade',\n 'week']"
                    }, 
                    "output_type": "execute_result"
                }
            ], 
            "source": "observation_period.columns"
        }, 
        {
            "execution_count": 42, 
            "cell_type": "code", 
            "metadata": {}, 
            "outputs": [], 
            "source": "exprs = [F.sum(cat).alias(cat)  for cat in categories]"
        }, 
        {
            "execution_count": 43, 
            "cell_type": "code", 
            "metadata": {}, 
            "outputs": [], 
            "source": "total_number_interactions_week = observation_period.groupBy(['userId','week']).agg(*exprs)"
        }, 
        {
            "execution_count": 44, 
            "cell_type": "code", 
            "metadata": {}, 
            "outputs": [
                {
                    "output_type": "stream", 
                    "name": "stdout", 
                    "text": "+---------+\n|max(week)|\n+---------+\n|       48|\n+---------+\n\n"
                }
            ], 
            "source": "total_number_interactions_week.select(F.max('week')).show()"
        }, 
        {
            "execution_count": 45, 
            "cell_type": "code", 
            "metadata": {}, 
            "outputs": [], 
            "source": "tot_num_interactions_last_week = total_number_interactions_week.filter('week == 48')"
        }, 
        {
            "execution_count": 46, 
            "cell_type": "code", 
            "metadata": {}, 
            "outputs": [
                {
                    "execution_count": 46, 
                    "metadata": {}, 
                    "data": {
                        "text/plain": "[Row(userId='100010', week=41, Cancel=1, Submit Downgrade=0, Thumbs Down=3, Home=3, Downgrade=0, Roll Advert=22, Logout=1, Save Settings=0, Cancellation Confirmation=1, About=0, Submit Registration=0, Settings=0, Login=0, Register=0, Add to Playlist=1, Add Friend=3, NextSong=96, Thumbs Up=4, Help=0, Upgrade=2, Error=0, Submit Upgrade=0),\n Row(userId='200002', week=40, Cancel=0, Submit Downgrade=0, Thumbs Down=1, Home=7, Downgrade=0, Roll Advert=6, Logout=4, Save Settings=0, Cancellation Confirmation=0, About=0, Submit Registration=0, Settings=0, Login=0, Register=0, Add to Playlist=1, Add Friend=2, NextSong=82, Thumbs Up=4, Help=0, Upgrade=1, Error=0, Submit Upgrade=0),\n Row(userId='200002', week=41, Cancel=0, Submit Downgrade=0, Thumbs Down=1, Home=10, Downgrade=1, Roll Advert=5, Logout=3, Save Settings=0, Cancellation Confirmation=0, About=1, Submit Registration=0, Settings=0, Login=0, Register=0, Add to Playlist=3, Add Friend=0, NextSong=123, Thumbs Up=8, Help=1, Upgrade=1, Error=0, Submit Upgrade=1)]"
                    }, 
                    "output_type": "execute_result"
                }
            ], 
            "source": "total_number_interactions_week.take(3)"
        }, 
        {
            "execution_count": 47, 
            "cell_type": "code", 
            "metadata": {}, 
            "outputs": [], 
            "source": "exprs = [F.mean(cat).alias('Average number of ' + cat)  for cat in categories]"
        }, 
        {
            "execution_count": 48, 
            "cell_type": "code", 
            "metadata": {}, 
            "outputs": [
                {
                    "execution_count": 48, 
                    "metadata": {}, 
                    "data": {
                        "text/plain": "[Column<b'avg(Cancel) AS `Average number of Cancel`'>,\n Column<b'avg(Submit Downgrade) AS `Average number of Submit Downgrade`'>,\n Column<b'avg(Thumbs Down) AS `Average number of Thumbs Down`'>,\n Column<b'avg(Home) AS `Average number of Home`'>,\n Column<b'avg(Downgrade) AS `Average number of Downgrade`'>,\n Column<b'avg(Roll Advert) AS `Average number of Roll Advert`'>,\n Column<b'avg(Logout) AS `Average number of Logout`'>,\n Column<b'avg(Save Settings) AS `Average number of Save Settings`'>,\n Column<b'avg(Cancellation Confirmation) AS `Average number of Cancellation Confirmation`'>,\n Column<b'avg(About) AS `Average number of About`'>,\n Column<b'avg(Submit Registration) AS `Average number of Submit Registration`'>,\n Column<b'avg(Settings) AS `Average number of Settings`'>,\n Column<b'avg(Login) AS `Average number of Login`'>,\n Column<b'avg(Register) AS `Average number of Register`'>,\n Column<b'avg(Add to Playlist) AS `Average number of Add to Playlist`'>,\n Column<b'avg(Add Friend) AS `Average number of Add Friend`'>,\n Column<b'avg(NextSong) AS `Average number of NextSong`'>,\n Column<b'avg(Thumbs Up) AS `Average number of Thumbs Up`'>,\n Column<b'avg(Help) AS `Average number of Help`'>,\n Column<b'avg(Upgrade) AS `Average number of Upgrade`'>,\n Column<b'avg(Error) AS `Average number of Error`'>,\n Column<b'avg(Submit Upgrade) AS `Average number of Submit Upgrade`'>]"
                    }, 
                    "output_type": "execute_result"
                }
            ], 
            "source": "exprs"
        }, 
        {
            "execution_count": 49, 
            "cell_type": "code", 
            "metadata": {}, 
            "outputs": [], 
            "source": "total_avg_interactions = total_number_interactions_week.groupBy('userId').agg(*exprs)"
        }, 
        {
            "execution_count": 50, 
            "cell_type": "code", 
            "metadata": {}, 
            "outputs": [
                {
                    "execution_count": 50, 
                    "metadata": {}, 
                    "data": {
                        "text/plain": "[Row(userId='100010', Average number of Cancel=1.0, Average number of Submit Downgrade=0.0, Average number of Thumbs Down=3.0, Average number of Home=3.0, Average number of Downgrade=0.0, Average number of Roll Advert=22.0, Average number of Logout=1.0, Average number of Save Settings=0.0, Average number of Cancellation Confirmation=1.0, Average number of About=0.0, Average number of Submit Registration=0.0, Average number of Settings=0.0, Average number of Login=0.0, Average number of Register=0.0, Average number of Add to Playlist=1.0, Average number of Add Friend=3.0, Average number of NextSong=96.0, Average number of Thumbs Up=4.0, Average number of Help=0.0, Average number of Upgrade=2.0, Average number of Error=0.0, Average number of Submit Upgrade=0.0),\n Row(userId='200002', Average number of Cancel=0.3333333333333333, Average number of Submit Downgrade=0.0, Average number of Thumbs Down=1.6666666666666667, Average number of Home=7.666666666666667, Average number of Downgrade=1.0, Average number of Roll Advert=3.6666666666666665, Average number of Logout=3.6666666666666665, Average number of Save Settings=0.0, Average number of Cancellation Confirmation=0.3333333333333333, Average number of About=0.3333333333333333, Average number of Submit Registration=0.0, Average number of Settings=0.6666666666666666, Average number of Login=0.0, Average number of Register=0.0, Average number of Add to Playlist=2.0, Average number of Add Friend=0.6666666666666666, Average number of NextSong=103.33333333333333, Average number of Thumbs Up=5.0, Average number of Help=0.3333333333333333, Average number of Upgrade=0.6666666666666666, Average number of Error=0.0, Average number of Submit Upgrade=0.3333333333333333),\n Row(userId='296', Average number of Cancel=0.5, Average number of Submit Downgrade=0.0, Average number of Thumbs Down=0.0, Average number of Home=3.5, Average number of Downgrade=0.5, Average number of Roll Advert=4.5, Average number of Logout=1.5, Average number of Save Settings=0.0, Average number of Cancellation Confirmation=0.5, Average number of About=0.0, Average number of Submit Registration=0.0, Average number of Settings=0.5, Average number of Login=0.0, Average number of Register=0.0, Average number of Add to Playlist=1.5, Average number of Add Friend=1.0, Average number of NextSong=56.0, Average number of Thumbs Up=4.0, Average number of Help=1.0, Average number of Upgrade=0.5, Average number of Error=0.0, Average number of Submit Upgrade=0.5)]"
                    }, 
                    "output_type": "execute_result"
                }
            ], 
            "source": "total_avg_interactions.take(3)"
        }, 
        {
            "execution_count": 51, 
            "cell_type": "code", 
            "metadata": {}, 
            "outputs": [], 
            "source": "observation_period = (observation_period\n                      .withColumn('last_7_days', F.when(F.col('date') >= F.date_sub(F.col('ref_date'),7),1)\n                      .otherwise(0)))"
        }, 
        {
            "execution_count": 52, 
            "cell_type": "code", 
            "metadata": {}, 
            "outputs": [
                {
                    "execution_count": 52, 
                    "metadata": {}, 
                    "data": {
                        "text/plain": "[Row(userId='100010', auth='Logged In', gender='F', itemInSession=0, length=226.08934, level='free', location='Bridgeport-Stamford-Norwalk, CT', method='PUT', page='NextSong', registration=datetime.datetime(2018, 9, 27, 2, 45, 40), sessionId=62, status=200, ts=datetime.datetime(2018, 10, 8, 9, 36, 32), userAgent='\"Mozilla/5.0 (iPhone; CPU iPhone OS 7_1_2 like Mac OS X) AppleWebKit/537.51.2 (KHTML, like Gecko) Version/7.0 Mobile/11D257 Safari/9537.53\"', date=datetime.date(2018, 10, 8), registration_date=datetime.date(2018, 9, 27), Churned=0, Churned_date=datetime.date(2018, 10, 11), Ref_date='2018-10-11', length_relationship=0.45995893223819295, Cancel=0, Submit Downgrade=0, Thumbs Down=0, Home=0, Downgrade=0, Roll Advert=0, Logout=0, Save Settings=0, Cancellation Confirmation=0, About=0, Submit Registration=0, Settings=0, Login=0, Register=0, Add to Playlist=0, Add Friend=0, NextSong=1, Thumbs Up=0, Help=0, Upgrade=0, Error=0, Submit Upgrade=0, week=41, last_7_days=1),\n Row(userId='100010', auth='Logged In', gender='F', itemInSession=1, length=285.41342, level='free', location='Bridgeport-Stamford-Norwalk, CT', method='PUT', page='NextSong', registration=datetime.datetime(2018, 9, 27, 2, 45, 40), sessionId=62, status=200, ts=datetime.datetime(2018, 10, 8, 9, 40, 18), userAgent='\"Mozilla/5.0 (iPhone; CPU iPhone OS 7_1_2 like Mac OS X) AppleWebKit/537.51.2 (KHTML, like Gecko) Version/7.0 Mobile/11D257 Safari/9537.53\"', date=datetime.date(2018, 10, 8), registration_date=datetime.date(2018, 9, 27), Churned=0, Churned_date=datetime.date(2018, 10, 11), Ref_date='2018-10-11', length_relationship=0.45995893223819295, Cancel=0, Submit Downgrade=0, Thumbs Down=0, Home=0, Downgrade=0, Roll Advert=0, Logout=0, Save Settings=0, Cancellation Confirmation=0, About=0, Submit Registration=0, Settings=0, Login=0, Register=0, Add to Playlist=0, Add Friend=0, NextSong=1, Thumbs Up=0, Help=0, Upgrade=0, Error=0, Submit Upgrade=0, week=41, last_7_days=1),\n Row(userId='100010', auth='Logged In', gender='F', itemInSession=2, length=236.09424, level='free', location='Bridgeport-Stamford-Norwalk, CT', method='PUT', page='NextSong', registration=datetime.datetime(2018, 9, 27, 2, 45, 40), sessionId=62, status=200, ts=datetime.datetime(2018, 10, 8, 9, 45, 3), userAgent='\"Mozilla/5.0 (iPhone; CPU iPhone OS 7_1_2 like Mac OS X) AppleWebKit/537.51.2 (KHTML, like Gecko) Version/7.0 Mobile/11D257 Safari/9537.53\"', date=datetime.date(2018, 10, 8), registration_date=datetime.date(2018, 9, 27), Churned=0, Churned_date=datetime.date(2018, 10, 11), Ref_date='2018-10-11', length_relationship=0.45995893223819295, Cancel=0, Submit Downgrade=0, Thumbs Down=0, Home=0, Downgrade=0, Roll Advert=0, Logout=0, Save Settings=0, Cancellation Confirmation=0, About=0, Submit Registration=0, Settings=0, Login=0, Register=0, Add to Playlist=0, Add Friend=0, NextSong=1, Thumbs Up=0, Help=0, Upgrade=0, Error=0, Submit Upgrade=0, week=41, last_7_days=1)]"
                    }, 
                    "output_type": "execute_result"
                }
            ], 
            "source": "observation_period.take(3)"
        }, 
        {
            "execution_count": 53, 
            "cell_type": "code", 
            "metadata": {}, 
            "outputs": [], 
            "source": "exprs = [F.sum(cat).alias('Number ' + cat + ' last 7 days')  for cat in categories]"
        }, 
        {
            "execution_count": 54, 
            "cell_type": "code", 
            "metadata": {}, 
            "outputs": [], 
            "source": "total_number_interactions_last7days = observation_period.where('last_7_days==1').groupBy('userId').agg(*exprs)"
        }, 
        {
            "execution_count": 55, 
            "cell_type": "code", 
            "metadata": {}, 
            "outputs": [
                {
                    "execution_count": 55, 
                    "metadata": {}, 
                    "data": {
                        "text/plain": "338"
                    }, 
                    "output_type": "execute_result"
                }
            ], 
            "source": "total_number_interactions_last7days.count()"
        }, 
        {
            "execution_count": 56, 
            "cell_type": "code", 
            "metadata": {}, 
            "outputs": [], 
            "source": "demographics = observation_period.select(['userId', 'gender','location','length_relationship']).distinct()"
        }, 
        {
            "execution_count": 57, 
            "cell_type": "code", 
            "metadata": {}, 
            "outputs": [
                {
                    "execution_count": 57, 
                    "metadata": {}, 
                    "data": {
                        "text/plain": "449"
                    }, 
                    "output_type": "execute_result"
                }
            ], 
            "source": "demographics.count()"
        }, 
        {
            "execution_count": 58, 
            "cell_type": "code", 
            "metadata": {}, 
            "outputs": [
                {
                    "output_type": "stream", 
                    "name": "stdout", 
                    "text": "-RECORD 0----------------------------------------------------\n userId              | 100010                                \n gender              | F                                     \n location            | Bridgeport-Stamford-Norwalk, CT       \n length_relationship | 0.45995893223819295                   \n-RECORD 1----------------------------------------------------\n userId              | 200002                                \n gender              | M                                     \n location            | Chicago-Naperville-Elgin, IL-IN-WI    \n length_relationship | 1.7741273100616017                    \n-RECORD 2----------------------------------------------------\n userId              | 296                                   \n gender              | F                                     \n location            | Allentown-Bethlehem-Easton, PA-NJ     \n length_relationship | 0.8542094455852156                    \n-RECORD 3----------------------------------------------------\n userId              | 125                                   \n gender              | M                                     \n location            | Corpus Christi, TX                    \n length_relationship | 4.008213552361396                     \n-RECORD 4----------------------------------------------------\n userId              | 124                                   \n gender              | F                                     \n location            | Vineland-Bridgeton, NJ                \n length_relationship | 3.6796714579055436                    \n-RECORD 5----------------------------------------------------\n userId              | 51                                    \n gender              | M                                     \n location            | Lexington-Fayette, KY                 \n length_relationship | 0.6242299794661191                    \n-RECORD 6----------------------------------------------------\n userId              | 7                                     \n gender              | M                                     \n location            | Seattle-Tacoma-Bellevue, WA           \n length_relationship | 2.661190965092403                     \n-RECORD 7----------------------------------------------------\n userId              | 200037                                \n gender              | M                                     \n location            | Columbus, GA-AL                       \n length_relationship | 1.4127310061601643                    \n-RECORD 8----------------------------------------------------\n userId              | 169                                   \n gender              | M                                     \n location            | Lafayette-West Lafayette, IN          \n length_relationship | 2.628336755646817                     \n-RECORD 9----------------------------------------------------\n userId              | 205                                   \n gender              | F                                     \n location            | Ottawa-Peru, IL                       \n length_relationship | 2.0369609856262834                    \n-RECORD 10---------------------------------------------------\n userId              | 272                                   \n gender              | F                                     \n location            | Charlotte-Concord-Gastonia, NC-SC     \n length_relationship | 2.102669404517454                     \n-RECORD 11---------------------------------------------------\n userId              | 15                                    \n gender              | M                                     \n location            | Morgantown, WV                        \n length_relationship | 2.0698151950718686                    \n-RECORD 12---------------------------------------------------\n userId              | 232                                   \n gender              | F                                     \n location            | San Francisco-Oakland-Hayward, CA     \n length_relationship | 2.595482546201232                     \n-RECORD 13---------------------------------------------------\n userId              | 234                                   \n gender              | M                                     \n location            | New Orleans-Metairie, LA              \n length_relationship | 1.1827515400410678                    \n-RECORD 14---------------------------------------------------\n userId              | 282                                   \n gender              | M                                     \n location            | San Francisco-Oakland-Hayward, CA     \n length_relationship | 2.628336755646817                     \n-RECORD 15---------------------------------------------------\n userId              | 54                                    \n gender              | F                                     \n location            | Spokane-Spokane Valley, WA            \n length_relationship | 2.4640657084188913                    \n-RECORD 16---------------------------------------------------\n userId              | 155                                   \n gender              | F                                     \n location            | Chicago-Naperville-Elgin, IL-IN-WI    \n length_relationship | 3.9753593429158114                    \n-RECORD 17---------------------------------------------------\n userId              | 200043                                \n gender              | F                                     \n location            | Boston-Cambridge-Newton, MA-NH        \n length_relationship | 2.1355236139630387                    \n-RECORD 18---------------------------------------------------\n userId              | 100014                                \n gender              | M                                     \n location            | New York-Newark-Jersey City, NY-NJ-PA \n length_relationship | 1.8069815195071868                    \n-RECORD 19---------------------------------------------------\n userId              | 132                                   \n gender              | F                                     \n location            | Denver-Aurora-Lakewood, CO            \n length_relationship | 0.7556468172484598                    \nonly showing top 20 rows\n\n"
                }
            ], 
            "source": "demographics.show(truncate=False,vertical=True)"
        }, 
        {
            "execution_count": 59, 
            "cell_type": "code", 
            "metadata": {}, 
            "outputs": [], 
            "source": "demographics = demographics.withColumn('State', F.split(F.split(F.col('location'),',')[1],'-')[0])"
        }, 
        {
            "execution_count": 60, 
            "cell_type": "code", 
            "metadata": {}, 
            "outputs": [
                {
                    "output_type": "stream", 
                    "name": "stdout", 
                    "text": "+------+------+-------------------------------------+-------------------+-----+\n|userId|gender|location                             |length_relationship|State|\n+------+------+-------------------------------------+-------------------+-----+\n|100010|F     |Bridgeport-Stamford-Norwalk, CT      |0.45995893223819295| CT  |\n|200002|M     |Chicago-Naperville-Elgin, IL-IN-WI   |1.7741273100616017 | IL  |\n|296   |F     |Allentown-Bethlehem-Easton, PA-NJ    |0.8542094455852156 | PA  |\n|125   |M     |Corpus Christi, TX                   |4.008213552361396  | TX  |\n|124   |F     |Vineland-Bridgeton, NJ               |3.6796714579055436 | NJ  |\n|51    |M     |Lexington-Fayette, KY                |0.6242299794661191 | KY  |\n|7     |M     |Seattle-Tacoma-Bellevue, WA          |2.661190965092403  | WA  |\n|200037|M     |Columbus, GA-AL                      |1.4127310061601643 | GA  |\n|169   |M     |Lafayette-West Lafayette, IN         |2.628336755646817  | IN  |\n|205   |F     |Ottawa-Peru, IL                      |2.0369609856262834 | IL  |\n|272   |F     |Charlotte-Concord-Gastonia, NC-SC    |2.102669404517454  | NC  |\n|15    |M     |Morgantown, WV                       |2.0698151950718686 | WV  |\n|232   |F     |San Francisco-Oakland-Hayward, CA    |2.595482546201232  | CA  |\n|234   |M     |New Orleans-Metairie, LA             |1.1827515400410678 | LA  |\n|282   |M     |San Francisco-Oakland-Hayward, CA    |2.628336755646817  | CA  |\n|54    |F     |Spokane-Spokane Valley, WA           |2.4640657084188913 | WA  |\n|155   |F     |Chicago-Naperville-Elgin, IL-IN-WI   |3.9753593429158114 | IL  |\n|200043|F     |Boston-Cambridge-Newton, MA-NH       |2.1355236139630387 | MA  |\n|100014|M     |New York-Newark-Jersey City, NY-NJ-PA|1.8069815195071868 | NY  |\n|132   |F     |Denver-Aurora-Lakewood, CO           |0.7556468172484598 | CO  |\n+------+------+-------------------------------------+-------------------+-----+\nonly showing top 20 rows\n\n"
                }
            ], 
            "source": "demographics.show(truncate=False)"
        }, 
        {
            "execution_count": 61, 
            "cell_type": "code", 
            "metadata": {}, 
            "outputs": [
                {
                    "output_type": "stream", 
                    "name": "stdout", 
                    "text": "+-----+-----+\n|State|count|\n+-----+-----+\n|   ME|    1|\n|   WA|   10|\n|   AL|    9|\n|   NM|    3|\n|   MI|   11|\n|   HI|    1|\n|   VT|    1|\n|   MO|    8|\n|   NE|    2|\n| null|    1|\n|   RI|    5|\n|   NH|    3|\n|   AK|    2|\n|   AR|    2|\n|   AZ|   10|\n|   WV|    2|\n|   TN|    9|\n|   MA|    8|\n|   NY|   36|\n|   MD|    5|\n+-----+-----+\nonly showing top 20 rows\n\n"
                }
            ], 
            "source": "demographics.groupBy('State').count().show()"
        }, 
        {
            "execution_count": 62, 
            "cell_type": "code", 
            "metadata": {}, 
            "outputs": [
                {
                    "execution_count": 62, 
                    "metadata": {}, 
                    "data": {
                        "text/plain": "449"
                    }, 
                    "output_type": "execute_result"
                }
            ], 
            "source": "churn_by_user.count()"
        }, 
        {
            "execution_count": 63, 
            "cell_type": "code", 
            "metadata": {}, 
            "outputs": [], 
            "source": "# Join all the data together\n\ncombined_df = (demographics.join(tot_num_interactions_last_week,on='userId', how='left')\n               .join(total_avg_interactions,on='userId', how='left')\n               .join(churn_by_user,on='userId', how='left')\n              )\n"
        }, 
        {
            "execution_count": 64, 
            "cell_type": "code", 
            "metadata": {}, 
            "outputs": [
                {
                    "execution_count": 64, 
                    "metadata": {}, 
                    "data": {
                        "text/plain": "['userId',\n 'gender',\n 'location',\n 'length_relationship',\n 'State',\n 'week',\n 'Cancel',\n 'Submit Downgrade',\n 'Thumbs Down',\n 'Home',\n 'Downgrade',\n 'Roll Advert',\n 'Logout',\n 'Save Settings',\n 'Cancellation Confirmation',\n 'About',\n 'Submit Registration',\n 'Settings',\n 'Login',\n 'Register',\n 'Add to Playlist',\n 'Add Friend',\n 'NextSong',\n 'Thumbs Up',\n 'Help',\n 'Upgrade',\n 'Error',\n 'Submit Upgrade',\n 'Average number of Cancel',\n 'Average number of Submit Downgrade',\n 'Average number of Thumbs Down',\n 'Average number of Home',\n 'Average number of Downgrade',\n 'Average number of Roll Advert',\n 'Average number of Logout',\n 'Average number of Save Settings',\n 'Average number of Cancellation Confirmation',\n 'Average number of About',\n 'Average number of Submit Registration',\n 'Average number of Settings',\n 'Average number of Login',\n 'Average number of Register',\n 'Average number of Add to Playlist',\n 'Average number of Add Friend',\n 'Average number of NextSong',\n 'Average number of Thumbs Up',\n 'Average number of Help',\n 'Average number of Upgrade',\n 'Average number of Error',\n 'Average number of Submit Upgrade',\n 'Churned']"
                    }, 
                    "output_type": "execute_result"
                }
            ], 
            "source": "combined_df.columns"
        }, 
        {
            "execution_count": 65, 
            "cell_type": "code", 
            "metadata": {}, 
            "outputs": [], 
            "source": "combined_df = combined_df.drop(*['Average number of Cancel','Average number of Submit Downgrade',\n                                 'Average number of Cancellation Confirmation',\n                                'Cancel','Submit Downgrade','Cancellation Confirmation','week','location'])"
        }, 
        {
            "execution_count": 66, 
            "cell_type": "code", 
            "metadata": {}, 
            "outputs": [
                {
                    "execution_count": 66, 
                    "metadata": {}, 
                    "data": {
                        "text/plain": "['Cancel',\n 'Submit Downgrade',\n 'Thumbs Down',\n 'Home',\n 'Downgrade',\n 'Roll Advert',\n 'Logout',\n 'Save Settings',\n 'Cancellation Confirmation',\n 'About',\n 'Submit Registration',\n 'Settings',\n 'Login',\n 'Register',\n 'Add to Playlist',\n 'Add Friend',\n 'NextSong',\n 'Thumbs Up',\n 'Help',\n 'Upgrade',\n 'Error',\n 'Submit Upgrade']"
                    }, 
                    "output_type": "execute_result"
                }
            ], 
            "source": "categories"
        }, 
        {
            "execution_count": 67, 
            "cell_type": "code", 
            "metadata": {}, 
            "outputs": [], 
            "source": "# Create some ratio variables\n\nbase_vars = [cat for cat in categories if cat not in ['Cancel','Submit Downgrade','Cancellation Confirmation']]\ncompare_vars = ['Average number of ' + cat for cat in base_vars]"
        }, 
        {
            "execution_count": 68, 
            "cell_type": "code", 
            "metadata": {}, 
            "outputs": [], 
            "source": "exprs = [(F.col(var)/F.col(var_i)).alias(var + ' ratio')  for var,var_i in zip(base_vars,compare_vars)]"
        }, 
        {
            "execution_count": 69, 
            "cell_type": "code", 
            "metadata": {}, 
            "outputs": [
                {
                    "execution_count": 69, 
                    "metadata": {}, 
                    "data": {
                        "text/plain": "[Column<b'(Thumbs Down / Average number of Thumbs Down) AS `Thumbs Down ratio`'>,\n Column<b'(Home / Average number of Home) AS `Home ratio`'>,\n Column<b'(Downgrade / Average number of Downgrade) AS `Downgrade ratio`'>,\n Column<b'(Roll Advert / Average number of Roll Advert) AS `Roll Advert ratio`'>,\n Column<b'(Logout / Average number of Logout) AS `Logout ratio`'>,\n Column<b'(Save Settings / Average number of Save Settings) AS `Save Settings ratio`'>,\n Column<b'(About / Average number of About) AS `About ratio`'>,\n Column<b'(Submit Registration / Average number of Submit Registration) AS `Submit Registration ratio`'>,\n Column<b'(Settings / Average number of Settings) AS `Settings ratio`'>,\n Column<b'(Login / Average number of Login) AS `Login ratio`'>,\n Column<b'(Register / Average number of Register) AS `Register ratio`'>,\n Column<b'(Add to Playlist / Average number of Add to Playlist) AS `Add to Playlist ratio`'>,\n Column<b'(Add Friend / Average number of Add Friend) AS `Add Friend ratio`'>,\n Column<b'(NextSong / Average number of NextSong) AS `NextSong ratio`'>,\n Column<b'(Thumbs Up / Average number of Thumbs Up) AS `Thumbs Up ratio`'>,\n Column<b'(Help / Average number of Help) AS `Help ratio`'>,\n Column<b'(Upgrade / Average number of Upgrade) AS `Upgrade ratio`'>,\n Column<b'(Error / Average number of Error) AS `Error ratio`'>,\n Column<b'(Submit Upgrade / Average number of Submit Upgrade) AS `Submit Upgrade ratio`'>]"
                    }, 
                    "output_type": "execute_result"
                }
            ], 
            "source": "exprs"
        }, 
        {
            "execution_count": 70, 
            "cell_type": "code", 
            "metadata": {}, 
            "outputs": [], 
            "source": "combined_df = combined_df.select('*', *exprs)\n    "
        }, 
        {
            "execution_count": 71, 
            "cell_type": "code", 
            "metadata": {}, 
            "outputs": [
                {
                    "execution_count": 71, 
                    "metadata": {}, 
                    "data": {
                        "text/plain": "['userId',\n 'gender',\n 'length_relationship',\n 'State',\n 'Thumbs Down',\n 'Home',\n 'Downgrade',\n 'Roll Advert',\n 'Logout',\n 'Save Settings',\n 'About',\n 'Submit Registration',\n 'Settings',\n 'Login',\n 'Register',\n 'Add to Playlist',\n 'Add Friend',\n 'NextSong',\n 'Thumbs Up',\n 'Help',\n 'Upgrade',\n 'Error',\n 'Submit Upgrade',\n 'Average number of Thumbs Down',\n 'Average number of Home',\n 'Average number of Downgrade',\n 'Average number of Roll Advert',\n 'Average number of Logout',\n 'Average number of Save Settings',\n 'Average number of About',\n 'Average number of Submit Registration',\n 'Average number of Settings',\n 'Average number of Login',\n 'Average number of Register',\n 'Average number of Add to Playlist',\n 'Average number of Add Friend',\n 'Average number of NextSong',\n 'Average number of Thumbs Up',\n 'Average number of Help',\n 'Average number of Upgrade',\n 'Average number of Error',\n 'Average number of Submit Upgrade',\n 'Churned',\n 'Thumbs Down ratio',\n 'Home ratio',\n 'Downgrade ratio',\n 'Roll Advert ratio',\n 'Logout ratio',\n 'Save Settings ratio',\n 'About ratio',\n 'Submit Registration ratio',\n 'Settings ratio',\n 'Login ratio',\n 'Register ratio',\n 'Add to Playlist ratio',\n 'Add Friend ratio',\n 'NextSong ratio',\n 'Thumbs Up ratio',\n 'Help ratio',\n 'Upgrade ratio',\n 'Error ratio',\n 'Submit Upgrade ratio']"
                    }, 
                    "output_type": "execute_result"
                }
            ], 
            "source": "combined_df.columns"
        }, 
        {
            "execution_count": 72, 
            "cell_type": "code", 
            "metadata": {}, 
            "outputs": [], 
            "source": "check_results = combined_df.describe().toPandas()"
        }, 
        {
            "execution_count": 73, 
            "cell_type": "code", 
            "metadata": {}, 
            "outputs": [
                {
                    "execution_count": 73, 
                    "metadata": {}, 
                    "data": {
                        "text/html": "<div>\n<style scoped>\n    .dataframe tbody tr th:only-of-type {\n        vertical-align: middle;\n    }\n\n    .dataframe tbody tr th {\n        vertical-align: top;\n    }\n\n    .dataframe thead th {\n        text-align: right;\n    }\n</style>\n<table border=\"1\" class=\"dataframe\">\n  <thead>\n    <tr style=\"text-align: right;\">\n      <th></th>\n      <th>summary</th>\n      <th>userId</th>\n      <th>gender</th>\n      <th>length_relationship</th>\n      <th>State</th>\n      <th>Thumbs Down</th>\n      <th>Home</th>\n      <th>Downgrade</th>\n      <th>Roll Advert</th>\n      <th>Logout</th>\n      <th>...</th>\n      <th>Login ratio</th>\n      <th>Register ratio</th>\n      <th>Add to Playlist ratio</th>\n      <th>Add Friend ratio</th>\n      <th>NextSong ratio</th>\n      <th>Thumbs Up ratio</th>\n      <th>Help ratio</th>\n      <th>Upgrade ratio</th>\n      <th>Error ratio</th>\n      <th>Submit Upgrade ratio</th>\n    </tr>\n  </thead>\n  <tbody>\n    <tr>\n      <th>0</th>\n      <td>count</td>\n      <td>449</td>\n      <td>448</td>\n      <td>448</td>\n      <td>448</td>\n      <td>166</td>\n      <td>166</td>\n      <td>166</td>\n      <td>166</td>\n      <td>166</td>\n      <td>...</td>\n      <td>1</td>\n      <td>1</td>\n      <td>161</td>\n      <td>159</td>\n      <td>165</td>\n      <td>164</td>\n      <td>147</td>\n      <td>122</td>\n      <td>107</td>\n      <td>90</td>\n    </tr>\n    <tr>\n      <th>1</th>\n      <td>mean</td>\n      <td>67520.34821428571</td>\n      <td>None</td>\n      <td>2.720445878556763</td>\n      <td>None</td>\n      <td>1.4698795180722892</td>\n      <td>10.295180722891565</td>\n      <td>1.355421686746988</td>\n      <td>1.572289156626506</td>\n      <td>1.9216867469879517</td>\n      <td>...</td>\n      <td>0.700715355182166</td>\n      <td>0.0</td>\n      <td>0.9796683120311976</td>\n      <td>0.9302567459323453</td>\n      <td>0.9848818552970979</td>\n      <td>0.9860640008611656</td>\n      <td>0.7887033023354141</td>\n      <td>0.4217922787594918</td>\n      <td>1.0548342234089898</td>\n      <td>0.8333333333333334</td>\n    </tr>\n    <tr>\n      <th>2</th>\n      <td>stddev</td>\n      <td>105964.5842848519</td>\n      <td>None</td>\n      <td>1.3415759529799054</td>\n      <td>None</td>\n      <td>2.058757197320107</td>\n      <td>51.77822966791062</td>\n      <td>1.894217869267975</td>\n      <td>3.377853478459704</td>\n      <td>2.2210861766955694</td>\n      <td>...</td>\n      <td>NaN</td>\n      <td>NaN</td>\n      <td>0.9975632234367202</td>\n      <td>1.1729846353910938</td>\n      <td>0.8450489841631038</td>\n      <td>0.8976633689779056</td>\n      <td>1.437785806229514</td>\n      <td>1.240757000692484</td>\n      <td>2.2283412486404295</td>\n      <td>2.3619169514174834</td>\n    </tr>\n    <tr>\n      <th>3</th>\n      <td>min</td>\n      <td></td>\n      <td>F</td>\n      <td>0.0</td>\n      <td>AK</td>\n      <td>0</td>\n      <td>0</td>\n      <td>0</td>\n      <td>0</td>\n      <td>0</td>\n      <td>...</td>\n      <td>0.700715355182166</td>\n      <td>0.0</td>\n      <td>0.0</td>\n      <td>0.0</td>\n      <td>0.0</td>\n      <td>0.0</td>\n      <td>0.0</td>\n      <td>0.0</td>\n      <td>0.0</td>\n      <td>0.0</td>\n    </tr>\n    <tr>\n      <th>4</th>\n      <td>max</td>\n      <td>99</td>\n      <td>M</td>\n      <td>12.845995893223819</td>\n      <td>WV</td>\n      <td>14</td>\n      <td>669</td>\n      <td>7</td>\n      <td>19</td>\n      <td>13</td>\n      <td>...</td>\n      <td>0.700715355182166</td>\n      <td>0.0</td>\n      <td>5.5</td>\n      <td>7.0</td>\n      <td>4.643063583815029</td>\n      <td>4.509090909090909</td>\n      <td>9.0</td>\n      <td>7.0</td>\n      <td>9.0</td>\n      <td>9.0</td>\n    </tr>\n  </tbody>\n</table>\n<p>5 rows \u00d7 63 columns</p>\n</div>", 
                        "text/plain": "  summary             userId gender length_relationship State  \\\n0   count                449    448                 448   448   \n1    mean  67520.34821428571   None   2.720445878556763  None   \n2  stddev  105964.5842848519   None  1.3415759529799054  None   \n3     min                         F                 0.0    AK   \n4     max                 99      M  12.845995893223819    WV   \n\n          Thumbs Down                Home          Downgrade  \\\n0                 166                 166                166   \n1  1.4698795180722892  10.295180722891565  1.355421686746988   \n2   2.058757197320107   51.77822966791062  1.894217869267975   \n3                   0                   0                  0   \n4                  14                 669                  7   \n\n         Roll Advert              Logout  ...        Login ratio  \\\n0                166                 166  ...                  1   \n1  1.572289156626506  1.9216867469879517  ...  0.700715355182166   \n2  3.377853478459704  2.2210861766955694  ...                NaN   \n3                  0                   0  ...  0.700715355182166   \n4                 19                  13  ...  0.700715355182166   \n\n  Register ratio Add to Playlist ratio    Add Friend ratio  \\\n0              1                   161                 159   \n1            0.0    0.9796683120311976  0.9302567459323453   \n2            NaN    0.9975632234367202  1.1729846353910938   \n3            0.0                   0.0                 0.0   \n4            0.0                   5.5                 7.0   \n\n       NextSong ratio     Thumbs Up ratio          Help ratio  \\\n0                 165                 164                 147   \n1  0.9848818552970979  0.9860640008611656  0.7887033023354141   \n2  0.8450489841631038  0.8976633689779056   1.437785806229514   \n3                 0.0                 0.0                 0.0   \n4   4.643063583815029   4.509090909090909                 9.0   \n\n        Upgrade ratio         Error ratio Submit Upgrade ratio  \n0                 122                 107                   90  \n1  0.4217922787594918  1.0548342234089898   0.8333333333333334  \n2   1.240757000692484  2.2283412486404295   2.3619169514174834  \n3                 0.0                 0.0                  0.0  \n4                 7.0                 9.0                  9.0  \n\n[5 rows x 63 columns]"
                    }, 
                    "output_type": "execute_result"
                }
            ], 
            "source": "check_results"
        }, 
        {
            "source": "Lastly we need to impute the missing values. The following stategy would be used:\n* For the categorical variables, we will impute the value 'Missing''\n* For lenght of relationship, we will impute the value 999\n* For the interaction variables and ratio variables, well impute the value 0. This is fine in this instance since if the interaction is missing, it means there was 0 interactions", 
            "cell_type": "markdown", 
            "metadata": {}
        }, 
        {
            "execution_count": 74, 
            "cell_type": "code", 
            "metadata": {}, 
            "outputs": [
                {
                    "execution_count": 74, 
                    "metadata": {}, 
                    "data": {
                        "text/plain": "['userId',\n 'gender',\n 'length_relationship',\n 'State',\n 'Thumbs Down',\n 'Home',\n 'Downgrade',\n 'Roll Advert',\n 'Logout',\n 'Save Settings',\n 'About',\n 'Submit Registration',\n 'Settings',\n 'Login',\n 'Register',\n 'Add to Playlist',\n 'Add Friend',\n 'NextSong',\n 'Thumbs Up',\n 'Help',\n 'Upgrade',\n 'Error',\n 'Submit Upgrade',\n 'Average number of Thumbs Down',\n 'Average number of Home',\n 'Average number of Downgrade',\n 'Average number of Roll Advert',\n 'Average number of Logout',\n 'Average number of Save Settings',\n 'Average number of About',\n 'Average number of Submit Registration',\n 'Average number of Settings',\n 'Average number of Login',\n 'Average number of Register',\n 'Average number of Add to Playlist',\n 'Average number of Add Friend',\n 'Average number of NextSong',\n 'Average number of Thumbs Up',\n 'Average number of Help',\n 'Average number of Upgrade',\n 'Average number of Error',\n 'Average number of Submit Upgrade',\n 'Churned',\n 'Thumbs Down ratio',\n 'Home ratio',\n 'Downgrade ratio',\n 'Roll Advert ratio',\n 'Logout ratio',\n 'Save Settings ratio',\n 'About ratio',\n 'Submit Registration ratio',\n 'Settings ratio',\n 'Login ratio',\n 'Register ratio',\n 'Add to Playlist ratio',\n 'Add Friend ratio',\n 'NextSong ratio',\n 'Thumbs Up ratio',\n 'Help ratio',\n 'Upgrade ratio',\n 'Error ratio',\n 'Submit Upgrade ratio']"
                    }, 
                    "output_type": "execute_result"
                }
            ], 
            "source": "combined_df.columns"
        }, 
        {
            "execution_count": 75, 
            "cell_type": "code", 
            "metadata": {}, 
            "outputs": [
                {
                    "execution_count": 75, 
                    "metadata": {}, 
                    "data": {
                        "text/plain": "[('userId', 'string'),\n ('gender', 'string'),\n ('length_relationship', 'double'),\n ('State', 'string'),\n ('Thumbs Down', 'bigint'),\n ('Home', 'bigint'),\n ('Downgrade', 'bigint'),\n ('Roll Advert', 'bigint'),\n ('Logout', 'bigint'),\n ('Save Settings', 'bigint'),\n ('About', 'bigint'),\n ('Submit Registration', 'bigint'),\n ('Settings', 'bigint'),\n ('Login', 'bigint'),\n ('Register', 'bigint'),\n ('Add to Playlist', 'bigint'),\n ('Add Friend', 'bigint'),\n ('NextSong', 'bigint'),\n ('Thumbs Up', 'bigint'),\n ('Help', 'bigint'),\n ('Upgrade', 'bigint'),\n ('Error', 'bigint'),\n ('Submit Upgrade', 'bigint'),\n ('Average number of Thumbs Down', 'double'),\n ('Average number of Home', 'double'),\n ('Average number of Downgrade', 'double'),\n ('Average number of Roll Advert', 'double'),\n ('Average number of Logout', 'double'),\n ('Average number of Save Settings', 'double'),\n ('Average number of About', 'double'),\n ('Average number of Submit Registration', 'double'),\n ('Average number of Settings', 'double'),\n ('Average number of Login', 'double'),\n ('Average number of Register', 'double'),\n ('Average number of Add to Playlist', 'double'),\n ('Average number of Add Friend', 'double'),\n ('Average number of NextSong', 'double'),\n ('Average number of Thumbs Up', 'double'),\n ('Average number of Help', 'double'),\n ('Average number of Upgrade', 'double'),\n ('Average number of Error', 'double'),\n ('Average number of Submit Upgrade', 'double'),\n ('Churned', 'int'),\n ('Thumbs Down ratio', 'double'),\n ('Home ratio', 'double'),\n ('Downgrade ratio', 'double'),\n ('Roll Advert ratio', 'double'),\n ('Logout ratio', 'double'),\n ('Save Settings ratio', 'double'),\n ('About ratio', 'double'),\n ('Submit Registration ratio', 'double'),\n ('Settings ratio', 'double'),\n ('Login ratio', 'double'),\n ('Register ratio', 'double'),\n ('Add to Playlist ratio', 'double'),\n ('Add Friend ratio', 'double'),\n ('NextSong ratio', 'double'),\n ('Thumbs Up ratio', 'double'),\n ('Help ratio', 'double'),\n ('Upgrade ratio', 'double'),\n ('Error ratio', 'double'),\n ('Submit Upgrade ratio', 'double')]"
                    }, 
                    "output_type": "execute_result"
                }
            ], 
            "source": "combined_df.dtypes"
        }, 
        {
            "execution_count": 76, 
            "cell_type": "code", 
            "metadata": {}, 
            "outputs": [], 
            "source": "interaction_vars = combined_df.columns[4:23] + combined_df.columns[-19:]"
        }, 
        {
            "execution_count": 77, 
            "cell_type": "code", 
            "metadata": {}, 
            "outputs": [
                {
                    "execution_count": 77, 
                    "metadata": {}, 
                    "data": {
                        "text/plain": "['Thumbs Down',\n 'Home',\n 'Downgrade',\n 'Roll Advert',\n 'Logout',\n 'Save Settings',\n 'About',\n 'Submit Registration',\n 'Settings',\n 'Login',\n 'Register',\n 'Add to Playlist',\n 'Add Friend',\n 'NextSong',\n 'Thumbs Up',\n 'Help',\n 'Upgrade',\n 'Error',\n 'Submit Upgrade',\n 'Thumbs Down ratio',\n 'Home ratio',\n 'Downgrade ratio',\n 'Roll Advert ratio',\n 'Logout ratio',\n 'Save Settings ratio',\n 'About ratio',\n 'Submit Registration ratio',\n 'Settings ratio',\n 'Login ratio',\n 'Register ratio',\n 'Add to Playlist ratio',\n 'Add Friend ratio',\n 'NextSong ratio',\n 'Thumbs Up ratio',\n 'Help ratio',\n 'Upgrade ratio',\n 'Error ratio',\n 'Submit Upgrade ratio']"
                    }, 
                    "output_type": "execute_result"
                }
            ], 
            "source": "interaction_vars"
        }, 
        {
            "execution_count": 78, 
            "cell_type": "code", 
            "metadata": {}, 
            "outputs": [], 
            "source": "combined_df = combined_df.na.fill(value='Missing',subset=['gender','State'])\ncombined_df = combined_df.na.fill(value=999,subset=['length_relationship'])\ncombined_df = combined_df.na.fill(value=0,subset=interaction_vars)"
        }, 
        {
            "execution_count": null, 
            "cell_type": "code", 
            "metadata": {}, 
            "outputs": [], 
            "source": "combined_df.describe().show()"
        }, 
        {
            "source": "# 4. Modelling ", 
            "cell_type": "markdown", 
            "metadata": {}
        }, 
        {
            "execution_count": null, 
            "cell_type": "code", 
            "metadata": {}, 
            "outputs": [], 
            "source": "# Splitting datset into train and test sets\ncombined_df.cache()\ntrain, test = combined_df.randomSplit([0.8,0.2],seed=8989)"
        }, 
        {
            "execution_count": null, 
            "cell_type": "code", 
            "metadata": {}, 
            "outputs": [], 
            "source": "train.select(F.mean('Churned')).show()"
        }, 
        {
            "execution_count": null, 
            "cell_type": "code", 
            "metadata": {}, 
            "outputs": [], 
            "source": "test.select(F.sum('Churned')).show()"
        }, 
        {
            "execution_count": null, 
            "cell_type": "code", 
            "metadata": {}, 
            "outputs": [], 
            "source": "feature_columns = train.columns"
        }, 
        {
            "execution_count": null, 
            "cell_type": "code", 
            "metadata": {}, 
            "outputs": [], 
            "source": "feature_columns = ['gender_ohe',\n 'length_relationship',\n 'state_ohe',\n 'Thumbs Down',\n 'Home',\n 'Downgrade',\n 'Roll Advert',\n 'Logout',\n 'Save Settings',\n 'About',\n 'Submit Registration',\n 'Settings',\n 'Login',\n 'Register',\n 'Add to Playlist',\n 'Add Friend',\n 'NextSong',\n 'Thumbs Up',\n 'Help',\n 'Upgrade',\n 'Error',\n 'Submit Upgrade',\n 'Thumbs Down ratio',\n 'Home ratio',\n 'Downgrade ratio',\n 'Roll Advert ratio',\n 'Logout ratio',\n 'Save Settings ratio',\n 'About ratio',\n 'Submit Registration ratio',\n 'Settings ratio',\n 'Login ratio',\n 'Register ratio',\n 'Add to Playlist ratio',\n 'Add Friend ratio',\n 'NextSong ratio',\n 'Thumbs Up ratio',\n 'Help ratio',\n 'Upgrade ratio',\n 'Error ratio',\n 'Submit Upgrade ratio'] "
        }, 
        {
            "execution_count": null, 
            "cell_type": "code", 
            "metadata": {}, 
            "outputs": [], 
            "source": "# Creating pipeline\n\ngender_indexer = StringIndexer(inputCol='gender', outputCol='gender_index',handleInvalid='keep')\nstate_indexer = StringIndexer(inputCol='State', outputCol='state_index',handleInvalid='keep')\nohe_gender = OneHotEncoderEstimator(inputCols=['gender_index'],outputCols=['gender_ohe'],dropLast=False)  \nohe_state = OneHotEncoderEstimator(inputCols=['state_index'],outputCols=['state_ohe'] ,dropLast=False)  \nvectorizer = VectorAssembler(inputCols=feature_columns,outputCol='features' )\nrf_model = RandomForestClassifier(featuresCol='features', labelCol='Churned')"
        }, 
        {
            "execution_count": null, 
            "cell_type": "code", 
            "metadata": {}, 
            "outputs": [], 
            "source": "pipeline = Pipeline(stages=[gender_indexer,state_indexer,ohe_gender,ohe_state,vectorizer,rf_model])"
        }, 
        {
            "execution_count": null, 
            "cell_type": "code", 
            "metadata": {}, 
            "outputs": [], 
            "source": "# Fitting pipeline\nrf_fitted = pipeline.fit(train)"
        }, 
        {
            "execution_count": null, 
            "cell_type": "code", 
            "metadata": {}, 
            "outputs": [], 
            "source": "results = rf_fitted.transform(test)"
        }, 
        {
            "execution_count": null, 
            "cell_type": "code", 
            "metadata": {}, 
            "outputs": [], 
            "source": "eval_roc = BinaryClassificationEvaluator(labelCol='Churned')"
        }, 
        {
            "execution_count": null, 
            "cell_type": "code", 
            "metadata": {}, 
            "outputs": [], 
            "source": "evaluator = MulticlassClassificationEvaluator(labelCol='Churned')"
        }, 
        {
            "execution_count": null, 
            "cell_type": "code", 
            "metadata": {}, 
            "outputs": [], 
            "source": "print('Area under ROC: {}'.format(eval_roc.evaluate(results)))\nprint('Accuracy: {}'.format(evaluator.evaluate(results, {evaluator.metricName: \"accuracy\"})))\nprint('Precision: {}'.format(evaluator.evaluate(results, {evaluator.metricName: \"weightedPrecision\"})))\nprint('Recall: {}'.format(evaluator.evaluate(results, {evaluator.metricName: \"weightedRecall\"})))\nprint('F1: {}'.format(evaluator.evaluate(results, {evaluator.metricName: \"f1\"})))\n        "
        }, 
        {
            "execution_count": null, 
            "cell_type": "code", 
            "metadata": {}, 
            "outputs": [], 
            "source": "bgt_model = GBTClassifier(featuresCol='features', labelCol='Churned',maxDepth=3,subsamplingRate=0.5,minInstancesPerNode=10)"
        }, 
        {
            "execution_count": null, 
            "cell_type": "code", 
            "metadata": {}, 
            "outputs": [], 
            "source": "pipeline2 = Pipeline(stages=[gender_indexer,state_indexer,ohe_gender,ohe_state,vectorizer,bgt_model])"
        }, 
        {
            "execution_count": null, 
            "cell_type": "code", 
            "metadata": {}, 
            "outputs": [], 
            "source": "# Fitting pipeline\ngbt_fitted = pipeline2.fit(train)"
        }, 
        {
            "execution_count": null, 
            "cell_type": "code", 
            "metadata": {}, 
            "outputs": [], 
            "source": "results = gbt_fitted.transform(test)"
        }, 
        {
            "execution_count": null, 
            "cell_type": "code", 
            "metadata": {}, 
            "outputs": [], 
            "source": "print('Area under ROC: {}'.format(eval_roc.evaluate(results)))\nprint('Accuracy: {}'.format(evaluator.evaluate(results, {evaluator.metricName: \"accuracy\"})))\nprint('Precision: {}'.format(evaluator.evaluate(results, {evaluator.metricName: \"weightedPrecision\"})))\nprint('Recall: {}'.format(evaluator.evaluate(results, {evaluator.metricName: \"weightedRecall\"})))\nprint('F1: {}'.format(evaluator.evaluate(results, {evaluator.metricName: \"f1\"})))\n   "
        }, 
        {
            "source": "We see that the Gradient Boosting tree outpreforms the Random Forest, so next we'll tune the hyperparameters", 
            "cell_type": "markdown", 
            "metadata": {}
        }, 
        {
            "execution_count": null, 
            "cell_type": "code", 
            "metadata": {}, 
            "outputs": [], 
            "source": " param_grid = (ParamGridBuilder()\n               .addGrid(bgt_model.maxDepth, [2, 3, 5]) \n               .addGrid(bgt_model.minInstancesPerNode, [10,15,20]) \n               .addGrid(bgt_model.maxIter, [20,30,40,50]) \n               .build())"
        }, 
        {
            "execution_count": null, 
            "cell_type": "code", 
            "metadata": {}, 
            "outputs": [], 
            "source": "evaluator = MulticlassClassificationEvaluator(labelCol='Churned',metricName='f1')"
        }, 
        {
            "execution_count": null, 
            "cell_type": "code", 
            "metadata": {}, 
            "outputs": [], 
            "source": "gridsearch = CrossValidator(estimator=pipeline2,estimatorParamMaps=param_grid,numFolds=3,evaluator=evaluator,)"
        }, 
        {
            "execution_count": null, 
            "cell_type": "code", 
            "metadata": {}, 
            "outputs": [], 
            "source": "cvmodel = gridsearch.fit(train)"
        }, 
        {
            "execution_count": null, 
            "cell_type": "code", 
            "metadata": {}, 
            "outputs": [], 
            "source": "best_model = cvmodel.best_model"
        }, 
        {
            "execution_count": null, 
            "cell_type": "code", 
            "metadata": {}, 
            "outputs": [], 
            "source": "save(name = 'GBT model',\n     model = best_model,\n     test_data = test,\n     algorithm_type = 'Grandient Boosting tree',\n     description='Implementation of a GBT algorithm on the Sparkify data to predict churn')\n"
        }, 
        {
            "source": "# 5. Results evaluation", 
            "cell_type": "markdown", 
            "metadata": {}
        }, 
        {
            "execution_count": null, 
            "cell_type": "code", 
            "metadata": {}, 
            "outputs": [], 
            "source": "cvmodel"
        }, 
        {
            "execution_count": null, 
            "cell_type": "code", 
            "metadata": {}, 
            "outputs": [], 
            "source": ""
        }
    ], 
    "metadata": {
        "kernelspec": {
            "display_name": "Python 3.5 with Spark", 
            "name": "python3", 
            "language": "python3"
        }, 
        "language_info": {
            "mimetype": "text/x-python", 
            "nbconvert_exporter": "python", 
            "version": "3.5.4", 
            "name": "python", 
            "file_extension": ".py", 
            "pygments_lexer": "ipython3", 
            "codemirror_mode": {
                "version": 3, 
                "name": "ipython"
            }
        }
    }, 
    "nbformat": 4
}